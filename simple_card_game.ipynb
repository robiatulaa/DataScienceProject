{
 "cells": [
  {
   "cell_type": "markdown",
   "id": "5cc4afd5",
   "metadata": {},
   "source": [
    "# SIMPLE CARD GAME\n",
    "\n",
    "This is a simple card game program where the player can interact with a menu. The menu allows the player to start a game, pick cards, shuffle the deck, show cards, or check the result. The player collects up to six cards, and once they have enough, the program checks the result to see who wins. The game also includes an option to exit at any time.\n",
    "\n",
    "*Created by: Robiatul Adawiyah Al-Qosh*"
   ]
  },
  {
   "cell_type": "markdown",
   "id": "256b5280",
   "metadata": {},
   "source": [
    "## Task 1. Game menu function"
   ]
  },
  {
   "cell_type": "code",
   "execution_count": null,
   "id": "edad980a",
   "metadata": {},
   "outputs": [],
   "source": [
    "def game_menu(): #Create function for the game menu\n",
    "    print(\"\\nWelcome to the card game, you have the following options: \\n 1. Start Game \\n 2. Pick A Card \\n 3. Shuffle Deck \\n 4. Show my Card \\n 5. Check Win or Lose \\n 6. Exit \\n\\nTo play the game you need to pick 6 cards. Good luck!\\n\")"
   ]
  },
  {
   "cell_type": "markdown",
   "id": "ec6c0d3e",
   "metadata": {},
   "source": [
    "## Task 2. Create Deck function"
   ]
  },
  {
   "cell_type": "code",
   "execution_count": null,
   "id": "93b05e29",
   "metadata": {},
   "outputs": [],
   "source": [
    "suits1 = [\"♥\", \"♦\", \"♣\", \"♠\"] #the first suits we called as Default\n",
    "suits2 =  [\"😃\",\"😈\",\"😵\",\"🤢\",\"😨\"] #the second suits we called as Emojis\n",
    "suits3 = [\"🤡\",\"👹\",\"👺\",\"👻\",\"👽\",\"👾\",\"🤖\"] #the third suits we called as Characters\n",
    "values = [\"2\", \"3\", \"4\", \"5\", \"6\", \"7\", \"8\", \"9\", \"10\", \"J\", \"Q\", \"K\", \"A\"]\n",
    "values2 = [2, 3, 4, 5, 6, 7, 8, 9, 10, 11, 12, 13, 1]\n",
    "deck1 = [b+\" of \"+a for a in suits1 for b in values if a != b] #Cards with \"Default\" suits\n",
    "deck2 = [b+\" of \"+a for a in suits2 for b in values if a != b] #Cards with \"Emojis\" suits\n",
    "deck3 = [b+\" of \"+a for a in suits3 for b in values if a != b] #Cards with \"Characters\" suits"
   ]
  },
  {
   "cell_type": "code",
   "execution_count": null,
   "id": "ce911515",
   "metadata": {},
   "outputs": [],
   "source": [
    "def start_game(user_selection): #This is the function after user choose the first selection\n",
    "    for c in user_selection:\n",
    "        if c == \"1\":\n",
    "            #If user type 1, the card will be in default suits1\n",
    "            if len(user_selection) == 1 or user_selection[1] == \"1\":\n",
    "                result = deck1 #The return also deck1 using suits1\n",
    "                return result\n",
    "            #Meanwhile, if user type 1 2, the card will be from suits2 form\n",
    "            elif user_selection[1] == \"2\":\n",
    "                result = deck2 #The return will be deck2 built by suits2\n",
    "                return result\n",
    "            #And if user input 1 3, the card will come from suits3\n",
    "            elif user_selection[1] == \"3\":\n",
    "                result = deck3 #Also the return will be deck3\n",
    "                return result"
   ]
  },
  {
   "cell_type": "markdown",
   "id": "77ce0085",
   "metadata": {},
   "source": [
    "## Task 3. Shuffle Deck function"
   ]
  },
  {
   "cell_type": "code",
   "execution_count": null,
   "id": "8d03058a",
   "metadata": {},
   "outputs": [],
   "source": [
    "def shuffle_deck(): #This is the function to shuffle the deck, in menu, it's number 3\n",
    "    import random #First we import random library from python\n",
    "    user_deck = start_game(user_selection) #I define the deck which already picked by user in this variable\n",
    "    middle_deck = int((len(user_deck)+1)/2) #This variable contains the middle index\n",
    "    for e in user_deck: #I'm using loop for this function\n",
    "        if e in deck1: #This is condition 1 where deck is using first suits type\n",
    "            for e in user_deck: #I put a loop again inside the first condition\n",
    "                if e == \"A of ♥\" or e == \"Q of ♦\" or e == \"K of ♠\": #This is the requirement from the brief\n",
    "                    user_deck.remove(e) #I remove the 3 object above first\n",
    "            random.shuffle(user_deck) #Then i shuffle it\n",
    "            user_deck.insert(0,\"A of ♥\") #And after that i insert the first object,\n",
    "            user_deck.insert(middle_deck,\"Q of ♦\") #the second object in the middle of the list,\n",
    "            user_deck.insert(len(user_deck),\"K of ♠\") #and, the third object at the end of the list\n",
    "            break #Then i break the loop if the condition is satisfied\n",
    "        if e in deck2: #This is the second condition where deck is using second suits type\n",
    "            for e in user_deck: #Basically i go through the same steps but different object\n",
    "                if e == \"A of 😃\" or e == \"7 of 😵\" or e == \"K of 😨\":\n",
    "                    user_deck.remove(e)\n",
    "            random.shuffle(user_deck)\n",
    "            user_deck.insert(0,\"A of 😃\")\n",
    "            user_deck.insert(middle_deck,\"7 of 😵\")\n",
    "            user_deck.insert(len(user_deck),\"K of 😨\")\n",
    "            break\n",
    "        if e in deck3: #And his is the last condition where deck is using third suits type\n",
    "            for e in user_deck: #I also use the same steps\n",
    "                if e == \"A of 🤡\" or e == \"7 of 👻\" or e == \"K of 🤖\":\n",
    "                    user_deck.remove(e)\n",
    "            random.shuffle(user_deck)\n",
    "            user_deck.insert(0,\"A of 🤡\")\n",
    "            user_deck.insert(middle_deck,\"7 of 👻\")\n",
    "            user_deck.insert(len(user_deck),\"K of 🤖\")\n",
    "            break\n",
    "    return user_deck #This is the return for the function"
   ]
  },
  {
   "cell_type": "markdown",
   "id": "1ba567ed",
   "metadata": {},
   "source": [
    "## Task 4. Pick Card function"
   ]
  },
  {
   "cell_type": "code",
   "execution_count": null,
   "id": "e95cb03c",
   "metadata": {},
   "outputs": [],
   "source": [
    "def pick_card(): #This is the pick card function, in menu, it's number 2\n",
    "    import random #I also use random library for this function\n",
    "    user_deck = start_game(user_selection) #This is the deck that already picked by the user\n",
    "    if len(user_card) < 6: #Okey, six is the required number for user to pick cards\n",
    "        user_pick = random.choice(user_deck) #This is card that picked by user\n",
    "        robot_pick = random.choice(user_deck) #On the other hand, this is card that picked by robot\n",
    "        user_card.append(user_pick) #I add the card that picked by user into user_card variable\n",
    "        robot_card.append(robot_pick) #And card that picked by robot into robot_card variable\n",
    "        user_deck.remove(user_pick) #The i remove the card already picked from the deck by user\n",
    "        user_deck.remove(robot_pick) # and by robot\n",
    "        print(f'You pick {user_pick} card') #This just print which will appear if we call the function\n",
    "    else:\n",
    "        #And if user already pick 6 card, this notification will appear\n",
    "        print(\"You already pick 6 cards, check you win or lose by typing number 5!\")"
   ]
  },
  {
   "cell_type": "markdown",
   "id": "346092bb",
   "metadata": {},
   "source": [
    "## Task 5. Show Cards function\n"
   ]
  },
  {
   "cell_type": "code",
   "execution_count": null,
   "id": "6729b948",
   "metadata": {},
   "outputs": [],
   "source": [
    "def show_card(): #This is the show card function\n",
    "    print(f'Your cards: {user_card[0:6]}') #I make it simple by just print the variable"
   ]
  },
  {
   "cell_type": "markdown",
   "id": "3b2804c1",
   "metadata": {},
   "source": [
    "## Task 6. Check Result function\n"
   ]
  },
  {
   "cell_type": "code",
   "execution_count": null,
   "id": "41a68bef",
   "metadata": {},
   "outputs": [],
   "source": [
    "def check_result(): #This is the function for checking the result\n",
    "    \n",
    "    \"\"\"I add some variables to help me running this function.\n",
    "    I know it's far from simple, but when i tried the simple one, it didn't work\"\"\"\n",
    "    \n",
    "    cek_user = [f[0] for f in user_card] \n",
    "    cek_robot = [g[0] for g in robot_card]\n",
    "    cek_user2 = {h:cek_user.count(h) for h in cek_user}\n",
    "    cek_robot2 = {i:cek_robot.count(i) for i in cek_robot}\n",
    "    \n",
    "    for f in user_card: #This is the loop for rule number 1\n",
    "        for j in cek_user2:\n",
    "            for k in cek_robot2:\n",
    "                if f[5] in suits1: #This for first deck type,\n",
    "                    if j == 4: #there is 4 suits that should have the same value\n",
    "                        print(\"Congratulation you win the game!\")\n",
    "                    elif k == 4:\n",
    "                        print(\"Hahaha, you lose! Game is over!\")\n",
    "                elif f[5] in suits2: #This for second deck type,\n",
    "                    if j == 5: #there is 5 suits that should have the same value\n",
    "                        print(\"Congratulation you win the game!\")\n",
    "                    elif k == 5:\n",
    "                        print(\"Hahaha, you lose! Game is over!\")\n",
    "                elif f[5] in suits3: #This for third deck type,\n",
    "                    if j == 6: #Actually, there is 7 suits that should have the same value, but the limit just 6\n",
    "                        print(\"Congratulation you win the game!\")\n",
    "                    elif k == 6:\n",
    "                        print(\"Hahaha, you lose! Game is over!\")\n",
    "                        \n",
    "    for f in user_card: #This is the loop for rule number 2, basically the same with the previous one\n",
    "        for j in cek_user2:\n",
    "            for k in cek_robot2:\n",
    "                if f[5] in suits1:\n",
    "                    if j == 3: #I just make it minus one\n",
    "                        print(\"Congratulation you win the game!\")\n",
    "                    elif k == 3:\n",
    "                        print(\"Hahaha, you lose! Game is over!\")\n",
    "                elif f[5] in suits2:\n",
    "                    if j == 4:\n",
    "                        print(\"Congratulation you win the game!\")\n",
    "                    elif k == 4:\n",
    "                        print(\"Hahaha, you lose! Game is over!\")\n",
    "                elif f[5] in suits3:\n",
    "                    if j == 6: #But for this deck type, it's still the same, since 7-1=6\n",
    "                        print(\"Congratulation you win the game!\")\n",
    "                    elif k == 6:\n",
    "                        print(\"Hahaha, you lose! Game is over!\")\n",
    "    \n",
    "    #And i add another helping variable, sorry if it's to complicated\n",
    "    cek_user3 = [f[5] for f in user_card]\n",
    "    cek_robot3 = [g[5] for g in robot_card]\n",
    "    cek_user4 = {l:cek_user3.count(l) for l in cek_user3}\n",
    "    cek_robot4 = {m:cek_robot3.count(m) for m in cek_robot3}\n",
    "    \n",
    "    for f in user_card: #This is the loop for rule number 3\n",
    "        if f[5] in suits1: #5 is index in string for the character of the suits\n",
    "            if '♦' in cek_user3 and '♦' in cek_robot3: #This is for deck type 1\n",
    "                if cek_user4['♦'] > cek_robot4['♦']:\n",
    "                    print(\"Congratulation you win the game!\")\n",
    "                elif cek_robot4['♦'] > cek_user4['♦']:\n",
    "                    print(\"Hahaha, you lose! Game is over!\")\n",
    "        elif f[5] in suits2:\n",
    "            if '😈' in cek_user3 and '😈' in cek_robot3: #This is for deck type 2\n",
    "                if cek_user4['😈'] > cek_robot4['😈']:\n",
    "                    print(\"Congratulation you win the game!\")\n",
    "                elif cek_robot4['😈'] > cek_user4['😈']:\n",
    "                    print(\"Hahaha, you lose! Game is over!\")\n",
    "        elif f[5] in suits3:\n",
    "            if '👹' in cek_user3 and '👹' in cek_robot3: #This is for deck type 3\n",
    "                if cek_user4['👹'] > cek_robot4['👹']:\n",
    "                    print(\"Congratulation you win the game!\")\n",
    "                elif cek_robot4['👹'] > cek_user4['👹']:\n",
    "                    print(\"Hahaha, you lose! Game is over!\")\n",
    "                    \n",
    "    #Well, this another additional variables\n",
    "    values_card = dict(list(zip(values,values2)))\n",
    "    user_values = [values_card[f] for f in cek_user if f in values_card]\n",
    "    robot_values = [values_card[g] for g in cek_robot if g in values_card]\n",
    "    \n",
    "    if sum(user_values) > sum(robot_values): #This is for rule number 4, i make it camparison between user and robot\n",
    "        print(\"Congratulation you win the game!\")\n",
    "    elif sum(user_values) < sum(robot_values):\n",
    "        print(\"Hahaha, you lose! Game is over!\")\n",
    "    else:\n",
    "        print(\"Wow, you almost win, the result is a tie!\") #And if the value is same, it's tie"
   ]
  },
  {
   "cell_type": "markdown",
   "id": "5fa34e7c",
   "metadata": {},
   "source": [
    "## Task 7. Play Game function"
   ]
  },
  {
   "cell_type": "code",
   "execution_count": null,
   "id": "c7ecf148",
   "metadata": {},
   "outputs": [],
   "source": [
    "game_menu() #Calling the menu function\n",
    "user_selection = input(\"Please enter your selection: \") #This is an input for user type menu selections\n",
    "user_card = [] #This is variable for user cards\n",
    "robot_card = [] #This is variable for robot cards\n",
    "\n",
    "def game_play(user_selection): #This is the function for playing the game\n",
    "    if user_selection[0] == \"6\": #I begin with the exit tool, i think this can make user to escape from the game easily\n",
    "        print(\"\\nYou exit the game. Good bye!\")\n",
    "    elif user_selection[0] == \"1\": #Then this the start game tool\n",
    "        print(start_game(user_selection)) #with start game function\n",
    "        game_menu() #Then i reapeat the menu function,\n",
    "        user_selection = input(\"Please enter your selection: \") #inputting,\n",
    "        game_play(user_selection) #and call this function inside the function\n",
    "    elif user_selection[0] == \"2\": #This is the pick card tool\n",
    "        pick_card() #with pick card menu\n",
    "        game_menu() #and i repeat again\n",
    "        user_selection = input(\"Please enter your selection: \")\n",
    "        game_play(user_selection)\n",
    "    elif user_selection[0] == \"3\": #This is the shuffling tool\n",
    "        print(shuffle_deck()) #with shuffle deck function\n",
    "        game_menu() #repeat again\n",
    "        user_selection = input(\"Please enter your selection: \")\n",
    "        game_play(user_selection)\n",
    "    elif user_selection[0] == \"4\": #This is the showing card tool\n",
    "        show_card() #with show card function\n",
    "        game_menu() #repeat again\n",
    "        user_selection = input(\"Please enter your selection: \")\n",
    "        game_play(user_selection)\n",
    "    elif user_selection[0] == \"5\": #Then this is the check result tool\n",
    "        if len(user_card) == 6: #which can be run if the user card already reach six card\n",
    "            check_result()\n",
    "        else:\n",
    "            print(\"Please pick more cards!\") #If the cards less than six, user will get this notification\n",
    "        game_menu() #repeat again\n",
    "        user_selection = input(\"Please enter your selection: \")\n",
    "        game_play(user_selection)\n",
    "        return\n",
    "        # break #I break the loop if we already have the result\n",
    "    else: #And, if the user input another number or character\n",
    "        print(\"\\nSorry, you enter the wrong selection!\") #This notification will appear\n",
    "        game_menu() #and i will ask the user to input again\n",
    "        user_selection = input(\"Please enter your selection: \")\n",
    "        game_play(user_selection)\n",
    "\n",
    "game_play(user_selection) #And this is the last call of the game play function, I hope it works good on you, Pak."
   ]
  },
  {
   "cell_type": "code",
   "execution_count": null,
   "id": "2fae3a14",
   "metadata": {},
   "outputs": [],
   "source": []
  }
 ],
 "metadata": {
  "kernelspec": {
   "display_name": "Python 3",
   "language": "python",
   "name": "python3"
  },
  "language_info": {
   "codemirror_mode": {
    "name": "ipython",
    "version": 3
   },
   "file_extension": ".py",
   "mimetype": "text/x-python",
   "name": "python",
   "nbconvert_exporter": "python",
   "pygments_lexer": "ipython3",
   "version": "3.12.2"
  }
 },
 "nbformat": 4,
 "nbformat_minor": 5
}
